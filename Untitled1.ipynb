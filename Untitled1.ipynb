{
  "nbformat": 4,
  "nbformat_minor": 0,
  "metadata": {
    "colab": {
      "provenance": [],
      "authorship_tag": "ABX9TyORu3Kx4cciMgu97hmLDki9",
      "include_colab_link": true
    },
    "kernelspec": {
      "name": "python3",
      "display_name": "Python 3"
    },
    "language_info": {
      "name": "python"
    }
  },
  "cells": [
    {
      "cell_type": "markdown",
      "metadata": {
        "id": "view-in-github",
        "colab_type": "text"
      },
      "source": [
        "<a href=\"https://colab.research.google.com/github/2403a51218/AI-ASSISTED-CODING/blob/main/Untitled1.ipynb\" target=\"_parent\"><img src=\"https://colab.research.google.com/assets/colab-badge.svg\" alt=\"Open In Colab\"/></a>"
      ]
    },
    {
      "cell_type": "markdown",
      "source": [
        "##Data Wrongling steps\n"
      ],
      "metadata": {
        "id": "f36ClIHsPYZn"
      }
    },
    {
      "cell_type": "code",
      "execution_count": 1,
      "metadata": {
        "colab": {
          "base_uri": "https://localhost:8080/"
        },
        "id": "8TmqXgOLEDPP",
        "outputId": "17fdeadb-36e3-4c23-f1f7-d4eaa6111286"
      },
      "outputs": [
        {
          "output_type": "stream",
          "name": "stdout",
          "text": [
            "      Name  Age      City  Salary\n",
            "0    Alice   25  New York   50008\n",
            "1       Bb   34    London   60000\n",
            "2  Charlie   30       hyd   70000\n",
            "3    David   40     Paris   80000\n",
            "4      eve   65    Berlin   90880\n",
            "5    Alice   25  New York   50000\n",
            "6  charlie   38       wgl  100000\n"
          ]
        }
      ],
      "source": [
        "import pandas as pd\n",
        "data={\n",
        "    \"Name\": [\"Alice\", \"Bb\", \"Charlie\",\"David\",\"eve\",\"Alice\",\"charlie\"],\n",
        "    \"Age\": [25, 34, 30, 40, 65, 25,38],\n",
        "    \"City\": [\"New York\", \"London\", \"hyd\", \"Paris\", \"Berlin\", \"New York\", \"wgl\"],\n",
        "    \"Salary\": [50008, 60000, 70000, 80000, 90880,50000, 100000]}\n",
        "df=pd. DataFrame (data)\n",
        "print (df)"
      ]
    },
    {
      "cell_type": "code",
      "source": [
        "import pandas as pd\n",
        "data = {\n",
        "    \"Name\": [\"Alice\", \"Bob\", \"Charlie\", \"David\", \"Eve\",\"Alice\",\"Charlie\"],\n",
        "    \"Age\": [25, None, 30, 40, None,25,30],\n",
        "    \"City\": [\"New York\", \"London\", None, \"Paris\", \"Berlin\",\"New York\",None],\n",
        "    \"Salary\": [50000, 60000, None, 80000, 90000,50000,None]\n",
        "}\n",
        "\n",
        "df = pd.DataFrame(data)\n",
        "print(\"Original Data:\\n\", df, \"\\n\")\n",
        "df = df.dropna(subset=['Salary'])\n",
        "print(df)\n",
        "df['Age'] = df['Age'].fillna(df['Age'].mean())\n",
        "df['City'] = df['City'].fillna(\"Unknown\")\n",
        "df = df.drop_duplicates()\n",
        "print(df)"
      ],
      "metadata": {
        "colab": {
          "base_uri": "https://localhost:8080/"
        },
        "id": "mMIPZX8ZJnmI",
        "outputId": "2dcb4906-dbbe-42d7-b324-4ac34afbdac2"
      },
      "execution_count": 2,
      "outputs": [
        {
          "output_type": "stream",
          "name": "stdout",
          "text": [
            "Original Data:\n",
            "       Name   Age      City   Salary\n",
            "0    Alice  25.0  New York  50000.0\n",
            "1      Bob   NaN    London  60000.0\n",
            "2  Charlie  30.0      None      NaN\n",
            "3    David  40.0     Paris  80000.0\n",
            "4      Eve   NaN    Berlin  90000.0\n",
            "5    Alice  25.0  New York  50000.0\n",
            "6  Charlie  30.0      None      NaN \n",
            "\n",
            "    Name   Age      City   Salary\n",
            "0  Alice  25.0  New York  50000.0\n",
            "1    Bob   NaN    London  60000.0\n",
            "3  David  40.0     Paris  80000.0\n",
            "4    Eve   NaN    Berlin  90000.0\n",
            "5  Alice  25.0  New York  50000.0\n",
            "    Name   Age      City   Salary\n",
            "0  Alice  25.0  New York  50000.0\n",
            "1    Bob  30.0    London  60000.0\n",
            "3  David  40.0     Paris  80000.0\n",
            "4    Eve  30.0    Berlin  90000.0\n"
          ]
        }
      ]
    },
    {
      "cell_type": "code",
      "source": [],
      "metadata": {
        "id": "MAAyNQW2PvGj"
      },
      "execution_count": null,
      "outputs": []
    },
    {
      "cell_type": "code",
      "source": [
        "import pandas as pd\n",
        "data = {\n",
        "    \"Name\": [\"Alice\", \"Bob\", \"Charlie\", \"David\", \"Eve\",\"Alice\",\"Charlie\"],\n",
        "    \"Age\": [25, None, 30, 40, None,25,30],\n",
        "    \"City\": [\"New York\", \"London\", None, \"Paris\", \"Berlin\",\"New York\",None],\n",
        "    \"Salary\": [50000, 60000, None, 80000, 90000,50000,None]\n",
        "}\n",
        "\n",
        "df = pd.DataFrame(data)\n",
        "print(\"Original Data:\\n\", df, \"\\n\")\n",
        "df = df.dropna(subset=['Salary'])\n",
        "print(df)\n",
        "df['Age'] = df['Age'].fillna(df['Age'].mean())\n",
        "df['City'] = df['City'].fillna(\"Unknown\")\n",
        "df = df.drop_duplicates()\n",
        "print(df)\n",
        "df = df.rename(columns={\"Name\": \"Employee_Name\", \"Age\": \"Employee_Age\"})\n",
        "df['Employee_Age'] = df['Employee_Age'].astype(int)\n",
        "print(df)\n",
        "df_filtered = df[df['Salary'] > 60000]   # employees with salary > 60000\n",
        "print(df)\n",
        "df['Bonus'] = df['Salary'] * 0.10   # 10% bonus\n",
        "print(df)\n",
        "df = df.sort_values(by='Salary', ascending=False)\n",
        "print(df)\n",
        "df_group = df.groupby('City')['Salary'].mean()\n",
        "print(df_group)\n"
      ],
      "metadata": {
        "colab": {
          "base_uri": "https://localhost:8080/"
        },
        "id": "oj4HxgOiNQKh",
        "outputId": "64a47bb1-71e5-454e-b15b-4c0ae570cbc1"
      },
      "execution_count": 3,
      "outputs": [
        {
          "output_type": "stream",
          "name": "stdout",
          "text": [
            "Original Data:\n",
            "       Name   Age      City   Salary\n",
            "0    Alice  25.0  New York  50000.0\n",
            "1      Bob   NaN    London  60000.0\n",
            "2  Charlie  30.0      None      NaN\n",
            "3    David  40.0     Paris  80000.0\n",
            "4      Eve   NaN    Berlin  90000.0\n",
            "5    Alice  25.0  New York  50000.0\n",
            "6  Charlie  30.0      None      NaN \n",
            "\n",
            "    Name   Age      City   Salary\n",
            "0  Alice  25.0  New York  50000.0\n",
            "1    Bob   NaN    London  60000.0\n",
            "3  David  40.0     Paris  80000.0\n",
            "4    Eve   NaN    Berlin  90000.0\n",
            "5  Alice  25.0  New York  50000.0\n",
            "    Name   Age      City   Salary\n",
            "0  Alice  25.0  New York  50000.0\n",
            "1    Bob  30.0    London  60000.0\n",
            "3  David  40.0     Paris  80000.0\n",
            "4    Eve  30.0    Berlin  90000.0\n",
            "  Employee_Name  Employee_Age      City   Salary\n",
            "0         Alice            25  New York  50000.0\n",
            "1           Bob            30    London  60000.0\n",
            "3         David            40     Paris  80000.0\n",
            "4           Eve            30    Berlin  90000.0\n",
            "  Employee_Name  Employee_Age      City   Salary\n",
            "0         Alice            25  New York  50000.0\n",
            "1           Bob            30    London  60000.0\n",
            "3         David            40     Paris  80000.0\n",
            "4           Eve            30    Berlin  90000.0\n",
            "  Employee_Name  Employee_Age      City   Salary   Bonus\n",
            "0         Alice            25  New York  50000.0  5000.0\n",
            "1           Bob            30    London  60000.0  6000.0\n",
            "3         David            40     Paris  80000.0  8000.0\n",
            "4           Eve            30    Berlin  90000.0  9000.0\n",
            "  Employee_Name  Employee_Age      City   Salary   Bonus\n",
            "4           Eve            30    Berlin  90000.0  9000.0\n",
            "3         David            40     Paris  80000.0  8000.0\n",
            "1           Bob            30    London  60000.0  6000.0\n",
            "0         Alice            25  New York  50000.0  5000.0\n",
            "City\n",
            "Berlin      90000.0\n",
            "London      60000.0\n",
            "New York    50000.0\n",
            "Paris       80000.0\n",
            "Name: Salary, dtype: float64\n"
          ]
        }
      ]
    },
    {
      "cell_type": "code",
      "source": [
        "import pandas as pd\n",
        "\n",
        "# Sample dataset of products\n",
        "data = {\n",
        "    \"Product\": [\"Laptop\", \"Phone\", \"Tablet\", \"Monitor\", \"Keyboard\", \"Laptop\", \"Tablet\"],\n",
        "    \"Price\": [800, 500, None, 300, None, 800, None],\n",
        "    \"Category\": [\"Electronics\", \"Electronics\", None, \"Electronics\", \"Accessories\", \"Electronics\", None],\n",
        "    \"Stock\": [50, 100, None, 30, 200, 50, None]\n",
        "}\n",
        "\n",
        "df = pd.DataFrame(data)\n",
        "print(\"Original Data:\\n\", df, \"\\n\")\n",
        "\n",
        "# Drop rows with missing Stock values\n",
        "df = df.dropna(subset=['Stock'])\n",
        "print(\"After dropping missing Stock:\\n\", df, \"\\n\")\n",
        "\n",
        "# Fill missing Price with mean, Category with \"Misc\"\n",
        "df['Price'] = df['Price'].fillna(df['Price'].mean())\n",
        "df['Category'] = df['Category'].fillna(\"Misc\")\n"
      ],
      "metadata": {
        "colab": {
          "base_uri": "https://localhost:8080/"
        },
        "id": "RRbNzD5sPtKW",
        "outputId": "2401c88f-5f7e-4afd-8cda-24f19de161c9"
      },
      "execution_count": 4,
      "outputs": [
        {
          "output_type": "stream",
          "name": "stdout",
          "text": [
            "Original Data:\n",
            "     Product  Price     Category  Stock\n",
            "0    Laptop  800.0  Electronics   50.0\n",
            "1     Phone  500.0  Electronics  100.0\n",
            "2    Tablet    NaN         None    NaN\n",
            "3   Monitor  300.0  Electronics   30.0\n",
            "4  Keyboard    NaN  Accessories  200.0\n",
            "5    Laptop  800.0  Electronics   50.0\n",
            "6    Tablet    NaN         None    NaN \n",
            "\n",
            "After dropping missing Stock:\n",
            "     Product  Price     Category  Stock\n",
            "0    Laptop  800.0  Electronics   50.0\n",
            "1     Phone  500.0  Electronics  100.0\n",
            "3   Monitor  300.0  Electronics   30.0\n",
            "4  Keyboard    NaN  Accessories  200.0\n",
            "5    Laptop  800.0  Electronics   50.0 \n",
            "\n"
          ]
        }
      ]
    },
    {
      "cell_type": "markdown",
      "source": [
        "product details"
      ],
      "metadata": {
        "id": "9zvZ8FpFQET5"
      }
    },
    {
      "cell_type": "code",
      "source": [
        "import pandas as pd\n",
        "\n",
        "# Sample dataset of products\n",
        "data = {\n",
        "    \"Product\": [\"Laptop\", \"Phone\", \"Tablet\", \"Monitor\", \"Keyboard\", \"Laptop\", \"Tablet\"],\n",
        "    \"Price\": [800, 500, None, 300, None, 800, None],\n",
        "    \"Category\": [\"Electronics\", \"Electronics\", None, \"Electronics\", \"Accessories\", \"Electronics\", None],\n",
        "    \"Stock\": [50, 100, None, 30, 200, 50, None]\n",
        "}\n",
        "\n",
        "df = pd.DataFrame(data)\n",
        "print(\"Original Data:\\n\", df, \"\\n\")\n",
        "\n",
        "# Drop rows with missing Stock values\n",
        "df = df.dropna(subset=['Stock'])\n",
        "print(\"After dropping missing Stock:\\n\", df, \"\\n\")\n",
        "\n",
        "# Fill missing Price with mean, Category with \"Misc\"\n",
        "df['Price'] = df['Price'].fillna(df['Price'].mean())\n",
        "df['Category'] = df['Category'].fillna(\"Misc\")\n"
      ],
      "metadata": {
        "colab": {
          "base_uri": "https://localhost:8080/"
        },
        "id": "--xXbL0JQLHQ",
        "outputId": "a0519c2d-d6b9-4f12-ede0-063eb72ecf97"
      },
      "execution_count": 5,
      "outputs": [
        {
          "output_type": "stream",
          "name": "stdout",
          "text": [
            "Original Data:\n",
            "     Product  Price     Category  Stock\n",
            "0    Laptop  800.0  Electronics   50.0\n",
            "1     Phone  500.0  Electronics  100.0\n",
            "2    Tablet    NaN         None    NaN\n",
            "3   Monitor  300.0  Electronics   30.0\n",
            "4  Keyboard    NaN  Accessories  200.0\n",
            "5    Laptop  800.0  Electronics   50.0\n",
            "6    Tablet    NaN         None    NaN \n",
            "\n",
            "After dropping missing Stock:\n",
            "     Product  Price     Category  Stock\n",
            "0    Laptop  800.0  Electronics   50.0\n",
            "1     Phone  500.0  Electronics  100.0\n",
            "3   Monitor  300.0  Electronics   30.0\n",
            "4  Keyboard    NaN  Accessories  200.0\n",
            "5    Laptop  800.0  Electronics   50.0 \n",
            "\n"
          ]
        }
      ]
    },
    {
      "cell_type": "markdown",
      "source": [
        "football players\n"
      ],
      "metadata": {
        "id": "gIeuANXdRSDI"
      }
    },
    {
      "cell_type": "code",
      "source": [
        "import pandas as pd\n",
        "\n",
        "# Sample dataset of sports players\n",
        "data = {\n",
        "    \"Player\": [\"Ronaldo\", \"Messi\", \"Neymar\", \"Mbappe\", \"Salah\", \"Ronaldo\", \"Neymar\"],\n",
        "    \"Age\": [38, 36, None, 25, None, 38, None],\n",
        "    \"Team\": [\"Al-Nassr\", \"Inter Miami\", None, \"PSG\", \"Liverpool\", \"Al-Nassr\", None],\n",
        "    \"Goals\": [50, 45, None, 40, 35, 50, None]\n",
        "}\n",
        "\n",
        "df = pd.DataFrame(data)\n",
        "print(\"Original Data:\\n\", df, \"\\n\")\n",
        "\n",
        "# Drop rows with missing Goals\n",
        "df = df.dropna(subset=['Goals'])\n",
        "print(\"After dropping missing Goals:\\n\", df, \"\\n\")\n",
        "\n",
        "# Fill missing Age with mean, Team with \"Unknown\"\n",
        "df['Age'] = df['Age'].fillna(df['Age'].mean())\n",
        "df['Team'] = df['Team'].fillna(\"Unknown\")\n",
        "\n",
        "# Remove duplicate rows\n",
        "df = df.drop_duplicates()\n",
        "print(\"After filling missing values & removing duplicates:\\n\", df, \"\\n\")\n",
        "\n",
        "# Rename columns\n",
        "df = df.rename(columns={\"Player\": \"Player_Name\", \"Age\": \"Player_Age\"})\n",
        "df['Player_Age'] = df['Player_Age'].astype(int)\n",
        "print(\"After renaming columns:\\n\", df, \"\\n\")\n",
        "\n",
        "# Filter players with Goals > 40\n",
        "df_filtered = df[df['Goals'] > 40]\n",
        "print(\"Players with Goals > 40:\\n\", df_filtered, \"\\n\")\n",
        "\n",
        "# Add new column: Bonus = 5% of Goals\n",
        "df['Bonus'] = df['Goals'] * 0.05\n",
        "print(\"With Bonus column:\\n\", df, \"\\n\")\n",
        "\n",
        "# Sort by Goals in descending order\n",
        "df = df.sort_values(by='Goals', ascending=False)\n",
        "print(\"Sorted by Goals:\\n\", df, \"\\n\")\n",
        "\n",
        "# Group by Team and calculate average Goals\n",
        "df_group = df.groupby\n"
      ],
      "metadata": {
        "colab": {
          "base_uri": "https://localhost:8080/"
        },
        "id": "PovOycDDRVc0",
        "outputId": "01caaae5-2e99-4e3a-a191-1c7113c41e11"
      },
      "execution_count": 7,
      "outputs": [
        {
          "output_type": "stream",
          "name": "stdout",
          "text": [
            "Original Data:\n",
            "     Player   Age         Team  Goals\n",
            "0  Ronaldo  38.0     Al-Nassr   50.0\n",
            "1    Messi  36.0  Inter Miami   45.0\n",
            "2   Neymar   NaN         None    NaN\n",
            "3   Mbappe  25.0          PSG   40.0\n",
            "4    Salah   NaN    Liverpool   35.0\n",
            "5  Ronaldo  38.0     Al-Nassr   50.0\n",
            "6   Neymar   NaN         None    NaN \n",
            "\n",
            "After dropping missing Goals:\n",
            "     Player   Age         Team  Goals\n",
            "0  Ronaldo  38.0     Al-Nassr   50.0\n",
            "1    Messi  36.0  Inter Miami   45.0\n",
            "3   Mbappe  25.0          PSG   40.0\n",
            "4    Salah   NaN    Liverpool   35.0\n",
            "5  Ronaldo  38.0     Al-Nassr   50.0 \n",
            "\n",
            "After filling missing values & removing duplicates:\n",
            "     Player    Age         Team  Goals\n",
            "0  Ronaldo  38.00     Al-Nassr   50.0\n",
            "1    Messi  36.00  Inter Miami   45.0\n",
            "3   Mbappe  25.00          PSG   40.0\n",
            "4    Salah  34.25    Liverpool   35.0 \n",
            "\n",
            "After renaming columns:\n",
            "   Player_Name  Player_Age         Team  Goals\n",
            "0     Ronaldo          38     Al-Nassr   50.0\n",
            "1       Messi          36  Inter Miami   45.0\n",
            "3      Mbappe          25          PSG   40.0\n",
            "4       Salah          34    Liverpool   35.0 \n",
            "\n",
            "Players with Goals > 40:\n",
            "   Player_Name  Player_Age         Team  Goals\n",
            "0     Ronaldo          38     Al-Nassr   50.0\n",
            "1       Messi          36  Inter Miami   45.0 \n",
            "\n",
            "With Bonus column:\n",
            "   Player_Name  Player_Age         Team  Goals  Bonus\n",
            "0     Ronaldo          38     Al-Nassr   50.0   2.50\n",
            "1       Messi          36  Inter Miami   45.0   2.25\n",
            "3      Mbappe          25          PSG   40.0   2.00\n",
            "4       Salah          34    Liverpool   35.0   1.75 \n",
            "\n",
            "Sorted by Goals:\n",
            "   Player_Name  Player_Age         Team  Goals  Bonus\n",
            "0     Ronaldo          38     Al-Nassr   50.0   2.50\n",
            "1       Messi          36  Inter Miami   45.0   2.25\n",
            "3      Mbappe          25          PSG   40.0   2.00\n",
            "4       Salah          34    Liverpool   35.0   1.75 \n",
            "\n"
          ]
        }
      ]
    },
    {
      "cell_type": "markdown",
      "source": [
        "product details\n"
      ],
      "metadata": {
        "id": "N4yzDpBkTSkL"
      }
    },
    {
      "cell_type": "code",
      "source": [
        "import pandas as pd\n",
        "\n",
        "# Sample dataset of products\n",
        "data = {\n",
        "    \"Product\": [\"Laptop\", \"Phone\", \"Tablet\", \"Monitor\", \"Keyboard\", \"Laptop\", \"Tablet\"],\n",
        "    \"Price\": [800, 500, None, 300, None, 800, None],\n",
        "    \"Category\": [\"Electronics\", \"Electronics\", None, \"Electronics\", \"Accessories\", \"Electronics\", None],\n",
        "    \"Stock\": [50, 100, None, 30, 200, 50, None]\n",
        "}\n",
        "\n",
        "df = pd.DataFrame(data)\n",
        "print(\"Original Data:\\n\", df, \"\\n\")\n",
        "\n",
        "# Drop rows with missing Stock values\n",
        "df = df.dropna(subset=['Stock'])\n",
        "print(\"After dropping missing Stock:\\n\", df, \"\\n\")\n",
        "\n",
        "# Fill missing Price with mean, Category with \"Misc\"\n",
        "df['Price'] = df['Price'].fillna(df['Price'].mean())\n",
        "print(df)\n",
        "df['Category'] = df['Category'].fillna(\"Misc\")\n",
        "print(df)\n",
        "df['Price'] = df['Price'].astype(int)\n",
        "print(df)\n",
        "df = df.sort_values(by='Product', ascending=False)\n",
        "print(df)\n",
        "df = df.drop_duplicates()\n",
        "print(df)"
      ],
      "metadata": {
        "colab": {
          "base_uri": "https://localhost:8080/"
        },
        "id": "7d-ps8pUTVkl",
        "outputId": "f925b327-2d05-4574-862a-4af73d39f7f6"
      },
      "execution_count": 8,
      "outputs": [
        {
          "output_type": "stream",
          "name": "stdout",
          "text": [
            "Original Data:\n",
            "     Product  Price     Category  Stock\n",
            "0    Laptop  800.0  Electronics   50.0\n",
            "1     Phone  500.0  Electronics  100.0\n",
            "2    Tablet    NaN         None    NaN\n",
            "3   Monitor  300.0  Electronics   30.0\n",
            "4  Keyboard    NaN  Accessories  200.0\n",
            "5    Laptop  800.0  Electronics   50.0\n",
            "6    Tablet    NaN         None    NaN \n",
            "\n",
            "After dropping missing Stock:\n",
            "     Product  Price     Category  Stock\n",
            "0    Laptop  800.0  Electronics   50.0\n",
            "1     Phone  500.0  Electronics  100.0\n",
            "3   Monitor  300.0  Electronics   30.0\n",
            "4  Keyboard    NaN  Accessories  200.0\n",
            "5    Laptop  800.0  Electronics   50.0 \n",
            "\n",
            "    Product  Price     Category  Stock\n",
            "0    Laptop  800.0  Electronics   50.0\n",
            "1     Phone  500.0  Electronics  100.0\n",
            "3   Monitor  300.0  Electronics   30.0\n",
            "4  Keyboard  600.0  Accessories  200.0\n",
            "5    Laptop  800.0  Electronics   50.0\n",
            "    Product  Price     Category  Stock\n",
            "0    Laptop  800.0  Electronics   50.0\n",
            "1     Phone  500.0  Electronics  100.0\n",
            "3   Monitor  300.0  Electronics   30.0\n",
            "4  Keyboard  600.0  Accessories  200.0\n",
            "5    Laptop  800.0  Electronics   50.0\n",
            "    Product  Price     Category  Stock\n",
            "0    Laptop    800  Electronics   50.0\n",
            "1     Phone    500  Electronics  100.0\n",
            "3   Monitor    300  Electronics   30.0\n",
            "4  Keyboard    600  Accessories  200.0\n",
            "5    Laptop    800  Electronics   50.0\n",
            "    Product  Price     Category  Stock\n",
            "1     Phone    500  Electronics  100.0\n",
            "3   Monitor    300  Electronics   30.0\n",
            "0    Laptop    800  Electronics   50.0\n",
            "5    Laptop    800  Electronics   50.0\n",
            "4  Keyboard    600  Accessories  200.0\n",
            "    Product  Price     Category  Stock\n",
            "1     Phone    500  Electronics  100.0\n",
            "3   Monitor    300  Electronics   30.0\n",
            "0    Laptop    800  Electronics   50.0\n",
            "4  Keyboard    600  Accessories  200.0\n"
          ]
        }
      ]
    }
  ]
}